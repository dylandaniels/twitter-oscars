{
 "cells": [
  {
   "cell_type": "code",
   "execution_count": 13,
   "metadata": {
    "collapsed": false
   },
   "outputs": [],
   "source": [
    "import os, json\n",
    "import clean\n",
    "import pandas as pd\n",
    "import matplotlib.pyplot as plt\n",
    "%matplotlib inline\n",
    "plt.style.use('ggplot')"
   ]
  },
  {
   "cell_type": "code",
   "execution_count": 2,
   "metadata": {
    "collapsed": false
   },
   "outputs": [],
   "source": [
    "#os.chdir('account/')\n",
    "path_to_json = 'account/'\n",
    "json_files = [pos_json for pos_json in os.listdir(path_to_json) if pos_json.endswith('.json')]\n"
   ]
  },
  {
   "cell_type": "code",
   "execution_count": 3,
   "metadata": {
    "collapsed": false
   },
   "outputs": [],
   "source": [
    "account={}\n",
    "for js in json_files:\n",
    "    with open(path_to_json+js) as infile:\n",
    "        sample = json.load(infile)\n",
    "    account_name = sample[0]['screen_name']\n",
    "    account[account_name] = sample[0]['followers_count']# = tokenize(sample['text'])\n",
    "    #martian.append(sample)\n",
    "    "
   ]
  },
  {
   "cell_type": "code",
   "execution_count": 4,
   "metadata": {
    "collapsed": false
   },
   "outputs": [
    {
     "data": {
      "text/plain": [
       "{u'BridgeofSpies': 3581,\n",
       " u'MadMaxMovie': 41737,\n",
       " u'MartianMovie': 29972,\n",
       " u'RevenantMovie': 27156,\n",
       " u'RoomTheMovie': 5664,\n",
       " u'SpotlightMovie': 6462,\n",
       " u'thebigshort': 54629}"
      ]
     },
     "execution_count": 4,
     "metadata": {},
     "output_type": "execute_result"
    }
   ],
   "source": [
    "account"
   ]
  },
  {
   "cell_type": "code",
   "execution_count": 5,
   "metadata": {
    "collapsed": false
   },
   "outputs": [],
   "source": [
    "#os.chdir('account/')\n",
    "path_to_json = 'search/'\n",
    "json_files = [pos_json for pos_json in os.listdir(path_to_json) if pos_json.endswith('.json')]\n"
   ]
  },
  {
   "cell_type": "code",
   "execution_count": 6,
   "metadata": {
    "collapsed": false
   },
   "outputs": [],
   "source": [
    "tweet_stat_each_movie={}\n",
    "for js in json_files:\n",
    "    with open(path_to_json+js) as infile:\n",
    "        sample = json.load(infile)\n",
    "    favorite_sum = sum([t['favorite_count'] for t in sample[0]])\n",
    "    retweet_sum = sum([t['retweet_count'] for t in sample[0]])#(sample[0][0]['retweet_count']\n",
    "    total_tweet = len(sample[0])\n",
    "    tweet_stat_each_movie[js] ={ 'favorite_pro':favorite_sum/float(total_tweet),\n",
    "                                'retweet_pro': retweet_sum/float(total_tweet),\n",
    "                                'total_tweet' : total_tweet}\n",
    "    "
   ]
  },
  {
   "cell_type": "code",
   "execution_count": 7,
   "metadata": {
    "collapsed": true
   },
   "outputs": [
    {
     "data": {
      "text/plain": [
       "{'search_bridgeofspies.json': {'favorite_pro': 0.6243811881188119,\n",
       "  'retweet_pro': 8.552599009900991,\n",
       "  'total_tweet': 1616},\n",
       " 'search_brooklynmovie.json': {'favorite_pro': 1.035035035035035,\n",
       "  'retweet_pro': 23.926926926926928,\n",
       "  'total_tweet': 999},\n",
       " 'search_madmaxmovie.json': {'favorite_pro': 0.0,\n",
       "  'retweet_pro': 0.3076923076923077,\n",
       "  'total_tweet': 13},\n",
       " 'search_martianmovie.json': {'favorite_pro': 0.21428571428571427,\n",
       "  'retweet_pro': 7.0,\n",
       "  'total_tweet': 14},\n",
       " 'search_revenantmovie.json': {'favorite_pro': 0.4293193717277487,\n",
       "  'retweet_pro': 107.68586387434554,\n",
       "  'total_tweet': 191},\n",
       " 'search_roomthemovie.json': {'favorite_pro': 0.26785714285714285,\n",
       "  'retweet_pro': 57.17857142857143,\n",
       "  'total_tweet': 168},\n",
       " 'search_spotlightmovie.json': {'favorite_pro': 0.60828025477707,\n",
       "  'retweet_pro': 190.12511373976344,\n",
       "  'total_tweet': 2198},\n",
       " 'search_thebigshort.json': {'favorite_pro': 0.9154793993068926,\n",
       "  'retweet_pro': 122.6447824412784,\n",
       "  'total_tweet': 5194}}"
      ]
     },
     "execution_count": 7,
     "metadata": {},
     "output_type": "execute_result"
    }
   ],
   "source": [
    "tweet_stat_each_movie"
   ]
  },
  {
   "cell_type": "code",
   "execution_count": 23,
   "metadata": {
    "collapsed": false
   },
   "outputs": [
    {
     "data": {
      "text/html": [
       "<div>\n",
       "<table border=\"1\" class=\"dataframe\">\n",
       "  <thead>\n",
       "    <tr style=\"text-align: right;\">\n",
       "      <th></th>\n",
       "      <th>followers_count</th>\n",
       "    </tr>\n",
       "  </thead>\n",
       "  <tbody>\n",
       "    <tr>\n",
       "      <th>MartianMovie</th>\n",
       "      <td>29972</td>\n",
       "    </tr>\n",
       "    <tr>\n",
       "      <th>SpotlightMovie</th>\n",
       "      <td>6462</td>\n",
       "    </tr>\n",
       "    <tr>\n",
       "      <th>RevenantMovie</th>\n",
       "      <td>27156</td>\n",
       "    </tr>\n",
       "    <tr>\n",
       "      <th>thebigshort</th>\n",
       "      <td>54629</td>\n",
       "    </tr>\n",
       "    <tr>\n",
       "      <th>MadMaxMovie</th>\n",
       "      <td>41737</td>\n",
       "    </tr>\n",
       "    <tr>\n",
       "      <th>RoomTheMovie</th>\n",
       "      <td>5664</td>\n",
       "    </tr>\n",
       "    <tr>\n",
       "      <th>BridgeofSpies</th>\n",
       "      <td>3581</td>\n",
       "    </tr>\n",
       "  </tbody>\n",
       "</table>\n",
       "</div>"
      ],
      "text/plain": [
       "                followers_count\n",
       "MartianMovie              29972\n",
       "SpotlightMovie             6462\n",
       "RevenantMovie             27156\n",
       "thebigshort               54629\n",
       "MadMaxMovie               41737\n",
       "RoomTheMovie               5664\n",
       "BridgeofSpies              3581"
      ]
     },
     "execution_count": 23,
     "metadata": {},
     "output_type": "execute_result"
    }
   ],
   "source": [
    "a = pd.DataFrame.from_dict(account, orient='index')\n",
    "a.columns = ['followers_count']\n",
    "a"
   ]
  },
  {
   "cell_type": "code",
   "execution_count": 65,
   "metadata": {
    "collapsed": false
   },
   "outputs": [
    {
     "data": {
      "image/png": "[encoded data removed]",
      "text/plain": [
       "<matplotlib.figure.Figure at 0x1070c8910>"
      ]
     },
     "metadata": {},
     "output_type": "display_data"
    }
   ],
   "source": [
    "fig = plt.figure()\n",
    "\n",
    "ax1 = fig.add_subplot(1,1,1)\n",
    "a.followers_count.plot(kind = 'bar',title = 'Followers count for each movie\\'s account',\n",
    "                       color = 'skyblue',alpha = 0.8)\n",
    "plt.xticks(rotation=45)\n",
    "#ax1.bar(X, Y)\n",
    "#ax1.set_title('Survived')\n",
    "ax1.set_xlabel('Movie')\n",
    "ax1.set_ylabel('Count')\n",
    "ax1.text(4.7, 56000, \"up to Jan 30, 2016\",fontsize=8.5)\n",
    "\n",
    "#ax1.set_xticks([0.4, 1.4])\n",
    "#ax1.set_xticklabels(['No...', 'Yes!!'])\n",
    "\n",
    "#ax2 = fig.add_subplot(1,2,2)\n",
    "#ax2.pie(Y, labels=['No...', 'Yes!!!'])\n",
    "\n",
    "fig.show()"
   ]
  },
  {
   "cell_type": "code",
   "execution_count": null,
   "metadata": {
    "collapsed": true
   },
   "outputs": [],
   "source": []
  }
 ],
 "metadata": {
  "kernelspec": {
   "display_name": "Python 2",
   "language": "python",
   "name": "python2"
  },
  "language_info": {
   "codemirror_mode": {
    "name": "ipython",
    "version": 2
   },
   "file_extension": ".py",
   "mimetype": "text/x-python",
   "name": "python",
   "nbconvert_exporter": "python",
   "pygments_lexer": "ipython2",
   "version": "2.7.11"
  }
 },
 "nbformat": 4,
 "nbformat_minor": 0
}
