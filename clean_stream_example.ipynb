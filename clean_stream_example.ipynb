{
 "cells": [
  {
   "cell_type": "code",
   "execution_count": 33,
   "metadata": {
    "collapsed": true
   },
   "outputs": [],
   "source": [
    "import os, json\n",
    "from clean import *\n",
    "from datetime import *\n",
    "from dateutil import parser"
   ]
  },
  {
   "cell_type": "code",
   "execution_count": 2,
   "metadata": {
    "collapsed": true
   },
   "outputs": [],
   "source": [
    "#os.chdir('stream-tweets-examples/TheBigShort/')\n",
    "path_to_json = 'stream-tweets-examples/TheBigShort/'\n",
    "json_files = [pos_json for pos_json in os.listdir(path_to_json) if pos_json.endswith('.json')]"
   ]
  },
  {
   "cell_type": "code",
   "execution_count": 34,
   "metadata": {
    "collapsed": true
   },
   "outputs": [],
   "source": [
    "thebigshort = []\n",
    "for js in json_files:\n",
    "    with open(path_to_json+json_files[0]) as infile:\n",
    "        sample = json.load(infile)\n",
    "    sample['text'] = tokenize(sample['text'])\n",
    "    sample['created_at'] = parser.parse(str(sample['created_at']))  \n",
    "    thebigshort.append(sample)\n"
   ]
  },
  {
   "cell_type": "code",
   "execution_count": 35,
   "metadata": {
    "collapsed": false
   },
   "outputs": [
    {
     "name": "stdout",
     "output_type": "stream",
     "text": [
      "mark baum human character big short felt anguish supposed films conscience hes wall st banker\n"
     ]
    },
    {
     "data": {
      "text/plain": [
       "u'mark baum human character big short felt anguish supposed films conscience hes wall st banker'"
      ]
     },
     "execution_count": 35,
     "metadata": {},
     "output_type": "execute_result"
    }
   ],
   "source": [
    "print sample['text']\n",
    "tokenize(sample['text'])"
   ]
  },
  {
   "cell_type": "code",
   "execution_count": 36,
   "metadata": {
    "collapsed": true
   },
   "outputs": [
    {
     "data": {
      "text/plain": [
       "{u'contributors': None,\n",
       " u'coordinates': None,\n",
       " u'created_at': datetime.datetime(2016, 1, 30, 22, 47, 12, tzinfo=tzutc()),\n",
       " u'entities': {u'hashtags': [],\n",
       "  u'symbols': [],\n",
       "  u'urls': [],\n",
       "  u'user_mentions': []},\n",
       " u'favorite_count': 0,\n",
       " u'favorited': False,\n",
       " u'filter_level': u'low',\n",
       " u'geo': None,\n",
       " u'id': 693566157832503297,\n",
       " u'id_str': u'693566157832503297',\n",
       " u'in_reply_to_screen_name': None,\n",
       " u'in_reply_to_status_id': None,\n",
       " u'in_reply_to_status_id_str': None,\n",
       " u'in_reply_to_user_id': None,\n",
       " u'in_reply_to_user_id_str': None,\n",
       " u'is_quote_status': False,\n",
       " u'lang': u'en',\n",
       " u'place': None,\n",
       " u'retweet_count': 0,\n",
       " u'retweeted': False,\n",
       " u'source': u'<a href=\"http://twitter.com/download/android\" rel=\"nofollow\">Twitter for Android</a>',\n",
       " u'text': u'mark baum human character big short felt anguish supposed films conscience hes wall st banker',\n",
       " u'timestamp_ms': u'1454194032520',\n",
       " u'truncated': False,\n",
       " u'user': {u'contributors_enabled': False,\n",
       "  u'created_at': u'Thu Dec 29 23:09:03 +0000 2011',\n",
       "  u'default_profile': False,\n",
       "  u'default_profile_image': False,\n",
       "  u'description': u'American Studies and labor history.',\n",
       "  u'favourites_count': 373,\n",
       "  u'follow_request_sent': None,\n",
       "  u'followers_count': 493,\n",
       "  u'following': None,\n",
       "  u'friends_count': 1685,\n",
       "  u'geo_enabled': True,\n",
       "  u'id': 450156705,\n",
       "  u'id_str': u'450156705',\n",
       "  u'is_translator': False,\n",
       "  u'lang': u'en',\n",
       "  u'listed_count': 17,\n",
       "  u'location': None,\n",
       "  u'name': u'Joe',\n",
       "  u'notifications': None,\n",
       "  u'profile_background_color': u'C0DEED',\n",
       "  u'profile_background_image_url': u'http://pbs.twimg.com/profile_background_images/437676789750456320/gxthqP9T.jpeg',\n",
       "  u'profile_background_image_url_https': u'https://pbs.twimg.com/profile_background_images/437676789750456320/gxthqP9T.jpeg',\n",
       "  u'profile_background_tile': False,\n",
       "  u'profile_banner_url': u'https://pbs.twimg.com/profile_banners/450156705/1416697627',\n",
       "  u'profile_image_url': u'http://pbs.twimg.com/profile_images/526810260422791168/-CV4Wj_c_normal.jpeg',\n",
       "  u'profile_image_url_https': u'https://pbs.twimg.com/profile_images/526810260422791168/-CV4Wj_c_normal.jpeg',\n",
       "  u'profile_link_color': u'0084B4',\n",
       "  u'profile_sidebar_border_color': u'FFFFFF',\n",
       "  u'profile_sidebar_fill_color': u'DDEEF6',\n",
       "  u'profile_text_color': u'333333',\n",
       "  u'profile_use_background_image': True,\n",
       "  u'protected': False,\n",
       "  u'screen_name': u'jpbng',\n",
       "  u'statuses_count': 6288,\n",
       "  u'time_zone': u'London',\n",
       "  u'url': None,\n",
       "  u'utc_offset': 0,\n",
       "  u'verified': False}}"
      ]
     },
     "execution_count": 36,
     "metadata": {},
     "output_type": "execute_result"
    }
   ],
   "source": [
    "thebigshort[0]"
   ]
  },
  {
   "cell_type": "code",
   "execution_count": 37,
   "metadata": {
    "collapsed": true
   },
   "outputs": [],
   "source": [
    "#os.chdir('stream-tweets-examples/TheBigShort/')\n",
    "path_to_json = 'stream-tweets-examples/BradPitt/'\n",
    "json_files = [pos_json for pos_json in os.listdir(path_to_json) if pos_json.endswith('.json')]\n",
    "\n",
    "BradPitt = []\n",
    "for js in json_files:\n",
    "    with open(path_to_json+json_files[0]) as infile:\n",
    "        sample = json.load(infile)\n",
    "    sample['text'] = tokenize(sample['text'])\n",
    "    sample['created_at'] = parser.parse(str(sample['created_at']))  \n",
    "    BradPitt.append(sample)\n"
   ]
  },
  {
   "cell_type": "code",
   "execution_count": 39,
   "metadata": {
    "collapsed": false
   },
   "outputs": [
    {
     "data": {
      "text/plain": [
       "u'lara croft tomb raider dvd sensormatic angelina jolie'"
      ]
     },
     "execution_count": 39,
     "metadata": {},
     "output_type": "execute_result"
    }
   ],
   "source": [
    "BradPitt[0]['text']"
   ]
  },
  {
   "cell_type": "code",
   "execution_count": 40,
   "metadata": {
    "collapsed": true
   },
   "outputs": [],
   "source": [
    "#os.chdir('stream-tweets-examples/TheBigShort/')\n",
    "path_to_json = 'stream-tweets-examples/LeoDiCaprio/'\n",
    "json_files = [pos_json for pos_json in os.listdir(path_to_json) if pos_json.endswith('.json')]\n",
    "\n",
    "LeoDiCaprio = []\n",
    "for js in json_files:\n",
    "    with open(path_to_json+json_files[0]) as infile:\n",
    "        sample = json.load(infile)\n",
    "    sample['text'] = tokenize(sample['text'])\n",
    "    sample['created_at'] = parser.parse(str(sample['created_at']))  \n",
    "    LeoDiCaprio.append(sample)\n"
   ]
  },
  {
   "cell_type": "code",
   "execution_count": 42,
   "metadata": {
    "collapsed": false
   },
   "outputs": [
    {
     "name": "stdout",
     "output_type": "stream",
     "text": [
      "ecevitlaikci güldürmeyen leonardo dicaprio ve oscar mizahları\n"
     ]
    }
   ],
   "source": [
    "print LeoDiCaprio[0]['text']"
   ]
  },
  {
   "cell_type": "code",
   "execution_count": null,
   "metadata": {
    "collapsed": true
   },
   "outputs": [],
   "source": []
  }
 ],
 "metadata": {
  "kernelspec": {
   "display_name": "Python 2",
   "language": "python",
   "name": "python2"
  },
  "language_info": {
   "codemirror_mode": {
    "name": "ipython",
    "version": 2
   },
   "file_extension": ".py",
   "mimetype": "text/x-python",
   "name": "python",
   "nbconvert_exporter": "python",
   "pygments_lexer": "ipython2",
   "version": "2.7.11"
  }
 },
 "nbformat": 4,
 "nbformat_minor": 0
}
